{
  "nbformat": 4,
  "nbformat_minor": 0,
  "metadata": {
    "colab": {
      "provenance": [],
      "authorship_tag": "ABX9TyM2sZMlVNLvvQSR6L7M9Y/c",
      "include_colab_link": true
    },
    "kernelspec": {
      "name": "python3",
      "display_name": "Python 3"
    },
    "language_info": {
      "name": "python"
    }
  },
  "cells": [
    {
      "cell_type": "markdown",
      "metadata": {
        "id": "view-in-github",
        "colab_type": "text"
      },
      "source": [
        "<a href=\"https://colab.research.google.com/github/zidan43325008-wq/Tugas-Pak-Prsyit/blob/main/Jobsheet01.ipynb\" target=\"_parent\"><img src=\"https://colab.research.google.com/assets/colab-badge.svg\" alt=\"Open In Colab\"/></a>"
      ]
    },
    {
      "cell_type": "markdown",
      "source": [
        "**1. MENGHITUNG LUAS PERSEGI PANJANG**"
      ],
      "metadata": {
        "id": "fKMYDiFCFMqc"
      }
    },
    {
      "cell_type": "code",
      "execution_count": null,
      "metadata": {
        "id": "0jYD8A9G2Qq_",
        "colab": {
          "base_uri": "https://localhost:8080/"
        },
        "outputId": "39629e54-5e31-400f-cbe6-cadcef7d7ec2"
      },
      "outputs": [
        {
          "output_type": "stream",
          "name": "stdout",
          "text": [
            "Masukkan panjang: 9\n",
            "Masukan lebar: 9\n",
            "Luas persegi panjang = 81\n"
          ]
        }
      ],
      "source": [
        "p = int (input (\"Masukkan panjang: \"))\n",
        "l = int (input (\"Masukan lebar: \"))\n",
        "Luas = p * l\n",
        "print (\"Luas persegi panjang =\", Luas)"
      ]
    },
    {
      "cell_type": "markdown",
      "source": [
        "**2.MENGHITUNG LUAS SEGITIGA (RUMUS HEROIN)**"
      ],
      "metadata": {
        "id": "dh54vKAcULfD"
      }
    },
    {
      "cell_type": "code",
      "source": [
        "import math\n",
        "\n",
        "a = float (input (\"Masukkan sisi a: \"))\n",
        "b = float (input (\"Masukkan sisi b: \"))\n",
        "c = float (input (\"Masukkan sisi c: \"))\n",
        "\n",
        "s = (a + b + c) /2\n",
        "luas = math.sqrt(s * (s-a) * (s-b) * (s-c))\n",
        "print (\"Luas segitiga =\", Luas)\n"
      ],
      "metadata": {
        "colab": {
          "base_uri": "https://localhost:8080/"
        },
        "id": "27bNnKOhA2IV",
        "outputId": "2b27ee4e-4866-4b41-d428-a92560642be8"
      },
      "execution_count": null,
      "outputs": [
        {
          "output_type": "stream",
          "name": "stdout",
          "text": [
            "Masukkan sisi a: 4\n",
            "Masukkan sisi b: 4\n",
            "Masukkan sisi c: 4\n",
            "Luas segitiga = 81\n"
          ]
        }
      ]
    },
    {
      "cell_type": "markdown",
      "source": [
        "**3.KONVERSI SUHU CELCIUS KE FAHRENHET**"
      ],
      "metadata": {
        "id": "WUFzIfGlUlDs"
      }
    },
    {
      "cell_type": "code",
      "source": [
        "c = float (input (\"Masukkan suhu (*C): \"))\n",
        "f = (c * 9/5) + 32\n",
        "print (\"Hasil Konversi =\", f, \"*F\")"
      ],
      "metadata": {
        "colab": {
          "base_uri": "https://localhost:8080/"
        },
        "id": "zfL8gs1dCgpI",
        "outputId": "42a18519-91f3-438a-f6de-a86498997fd8"
      },
      "execution_count": null,
      "outputs": [
        {
          "output_type": "stream",
          "name": "stdout",
          "text": [
            "Masukkan suhu (*C): 25\n",
            "Hasil Konversi = 77.0 *F\n"
          ]
        }
      ]
    },
    {
      "cell_type": "markdown",
      "source": [
        "**4.MENGHITUNG UMUR BERDASARKAN TAHUN LAHIR**"
      ],
      "metadata": {
        "id": "iuiD05UOVUbG"
      }
    },
    {
      "cell_type": "code",
      "source": [
        "tahun_lahir = int(input(\"Masukkan tahun lahir: \"))\n",
        "tahun_sekarang = 2025\n",
        "umur = tahun_sekarang - tahun_lahir\n",
        "print (\"Umur anda =\", umur, \"tahun\")"
      ],
      "metadata": {
        "colab": {
          "base_uri": "https://localhost:8080/"
        },
        "id": "a3P-RnCfEFAg",
        "outputId": "87f77bca-0f6b-48e7-8ccc-2c8db7214e28"
      },
      "execution_count": null,
      "outputs": [
        {
          "output_type": "stream",
          "name": "stdout",
          "text": [
            "Masukkan tahun lahir: 2006\n",
            "Umur anda = 19 tahun\n"
          ]
        }
      ]
    },
    {
      "cell_type": "markdown",
      "source": [
        "**5.MENGHITUNG LUAS LINGKARAN**"
      ],
      "metadata": {
        "id": "kAplTzZtVkUv"
      }
    },
    {
      "cell_type": "code",
      "source": [
        "import math\n",
        "r = float (input(\"masukkan jari-jari lingkaran: \"))\n",
        "luas = math.pi * r * r\n",
        "print (\"Luas lingkaran =\", luas)\n"
      ],
      "metadata": {
        "colab": {
          "base_uri": "https://localhost:8080/"
        },
        "id": "Qpr-Vx8-TnFx",
        "outputId": "b906d2f1-c011-48e7-95ee-cc999126663a"
      },
      "execution_count": null,
      "outputs": [
        {
          "output_type": "stream",
          "name": "stdout",
          "text": [
            "masukkan jari-jari lingkaran: 9\n",
            "Luas lingkaran = 254.46900494077323\n"
          ]
        }
      ]
    },
    {
      "cell_type": "markdown",
      "source": [
        "**6.MENJUMLAHKAN TIGA BILANGAN**"
      ],
      "metadata": {
        "id": "rXSZtu-3uxlr"
      }
    },
    {
      "cell_type": "code",
      "source": [
        "a = int(input(\"Masukkan bilangan pertama: \"))\n",
        "b = int(input(\"Masukkan bilangan kedua: \"))\n",
        "c = int(input(\"Masukkan bilangan ketiga: \"))\n",
        "jumlah = a + b + c\n",
        "print (\"Jumlah =\", jumlah)"
      ],
      "metadata": {
        "id": "V052d7csFKet",
        "colab": {
          "base_uri": "https://localhost:8080/"
        },
        "outputId": "b84200b1-1b4f-4120-a888-fa8c91082870"
      },
      "execution_count": null,
      "outputs": [
        {
          "output_type": "stream",
          "name": "stdout",
          "text": [
            "Masukkan bilangan pertama: 3\n",
            "Masukkan bilangan kedua: 3\n",
            "Masukkan bilangan ketiga: 3\n",
            "Jumlah = 9\n"
          ]
        }
      ]
    },
    {
      "cell_type": "code",
      "source": [],
      "metadata": {
        "id": "Tk0T3Eve0c3T"
      },
      "execution_count": null,
      "outputs": []
    },
    {
      "cell_type": "markdown",
      "source": [],
      "metadata": {
        "id": "_H2z6-r1xK0m"
      }
    }
  ]
}