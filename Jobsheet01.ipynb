{
  "nbformat": 4,
  "nbformat_minor": 0,
  "metadata": {
    "colab": {
      "provenance": [],
      "authorship_tag": "ABX9TyNYMXb5LyoKx/jlRKq1kl/P",
      "include_colab_link": true
    },
    "kernelspec": {
      "name": "python3",
      "display_name": "Python 3"
    },
    "language_info": {
      "name": "python"
    }
  },
  "cells": [
    {
      "cell_type": "markdown",
      "metadata": {
        "id": "view-in-github",
        "colab_type": "text"
      },
      "source": [
        "<a href=\"https://colab.research.google.com/github/zidan43325008-wq/Tugas-Pak-Prayit-1/blob/main/Jobsheet01.ipynb\" target=\"_parent\"><img src=\"https://colab.research.google.com/assets/colab-badge.svg\" alt=\"Open In Colab\"/></a>"
      ]
    },
    {
      "cell_type": "markdown",
      "source": [
        "**1. MENGHITUNG LUAS PERSEGI PANJANG**"
      ],
      "metadata": {
        "id": "fKMYDiFCFMqc"
      }
    },
    {
      "cell_type": "code",
      "execution_count": null,
      "metadata": {
        "id": "0jYD8A9G2Qq_",
        "colab": {
          "base_uri": "https://localhost:8080/"
        },
        "outputId": "39629e54-5e31-400f-cbe6-cadcef7d7ec2"
      },
      "outputs": [
        {
          "output_type": "stream",
          "name": "stdout",
          "text": [
            "Masukkan panjang: 9\n",
            "Masukan lebar: 9\n",
            "Luas persegi panjang = 81\n"
          ]
        }
      ],
      "source": [
        "p = int (input (\"Masukkan panjang: \"))\n",
        "l = int (input (\"Masukan lebar: \"))\n",
        "Luas = p * l\n",
        "print (\"Luas persegi panjang =\", Luas)"
      ]
    },
    {
      "cell_type": "markdown",
      "source": [
        "**2.MENGHITUNG LUAS SEGITIGA (RUMUS HEROIN)**"
      ],
      "metadata": {
        "id": "dh54vKAcULfD"
      }
    },
    {
      "cell_type": "code",
      "source": [
        "import math\n",
        "\n",
        "a = float (input (\"Masukkan sisi a: \"))\n",
        "b = float (input (\"Masukkan sisi b: \"))\n",
        "c = float (input (\"Masukkan sisi c: \"))\n",
        "\n",
        "s = (a + b + c) /2\n",
        "luas = math.sqrt(s * (s-a) * (s-b) * (s-c))\n",
        "print (\"Luas segitiga =\", Luas)\n"
      ],
      "metadata": {
        "colab": {
          "base_uri": "https://localhost:8080/"
        },
        "id": "27bNnKOhA2IV",
        "outputId": "2b27ee4e-4866-4b41-d428-a92560642be8"
      },
      "execution_count": null,
      "outputs": [
        {
          "output_type": "stream",
          "name": "stdout",
          "text": [
            "Masukkan sisi a: 4\n",
            "Masukkan sisi b: 4\n",
            "Masukkan sisi c: 4\n",
            "Luas segitiga = 81\n"
          ]
        }
      ]
    },
    {
      "cell_type": "markdown",
      "source": [
        "**3.KONVERSI SUHU CELCIUS KE FAHRENHET**"
      ],
      "metadata": {
        "id": "WUFzIfGlUlDs"
      }
    },
    {
      "cell_type": "code",
      "source": [
        "c = float (input (\"Masukkan suhu (*C): \"))\n",
        "f = (c * 9/5) + 32\n",
        "print (\"Hasil Konversi =\", f, \"*F\")"
      ],
      "metadata": {
        "colab": {
          "base_uri": "https://localhost:8080/"
        },
        "id": "zfL8gs1dCgpI",
        "outputId": "794b49b5-5d56-4a3a-ecf1-4447be4e42fd"
      },
      "execution_count": null,
      "outputs": [
        {
          "output_type": "stream",
          "name": "stdout",
          "text": [
            "Masukkan suhu (*C): 20\n",
            "Hasil Konversi = 68.0 *F\n"
          ]
        }
      ]
    },
    {
      "cell_type": "markdown",
      "source": [
        "**4.MENGHITUNG UMUR BERDASARKAN TAHUN LAHIR**"
      ],
      "metadata": {
        "id": "iuiD05UOVUbG"
      }
    },
    {
      "cell_type": "code",
      "source": [
        "tahun_lahir = int(input(\"Masukkan tahun lahir: \"))\n",
        "tahun_sekarang = 2025\n",
        "umur = tahun_sekarang - tahun_lahir\n",
        "print (\"Umur anda =\", umur, \"tahun\")"
      ],
      "metadata": {
        "colab": {
          "base_uri": "https://localhost:8080/"
        },
        "id": "a3P-RnCfEFAg",
        "outputId": "87f77bca-0f6b-48e7-8ccc-2c8db7214e28"
      },
      "execution_count": null,
      "outputs": [
        {
          "output_type": "stream",
          "name": "stdout",
          "text": [
            "Masukkan tahun lahir: 2006\n",
            "Umur anda = 19 tahun\n"
          ]
        }
      ]
    },
    {
      "cell_type": "markdown",
      "source": [
        "**5.MENGHITUNG LUAS LINGKARAN**"
      ],
      "metadata": {
        "id": "kAplTzZtVkUv"
      }
    },
    {
      "cell_type": "code",
      "source": [
        "import math\n",
        "r = float (input(\"masukkan jari-jari lingkaran: \"))\n",
        "luas = math.pi * r * r\n",
        "print (\"Luas lingkaran =\", luas)\n"
      ],
      "metadata": {
        "colab": {
          "base_uri": "https://localhost:8080/"
        },
        "id": "Qpr-Vx8-TnFx",
        "outputId": "b906d2f1-c011-48e7-95ee-cc999126663a"
      },
      "execution_count": null,
      "outputs": [
        {
          "output_type": "stream",
          "name": "stdout",
          "text": [
            "masukkan jari-jari lingkaran: 9\n",
            "Luas lingkaran = 254.46900494077323\n"
          ]
        }
      ]
    },
    {
      "cell_type": "markdown",
      "source": [
        "**6.MENJUMLAHKAN TIGA BILANGAN**"
      ],
      "metadata": {
        "id": "rXSZtu-3uxlr"
      }
    },
    {
      "cell_type": "code",
      "source": [
        "a = int(input(\"Masukkan bilangan pertama: \"))\n",
        "b = int(input(\"Masukkan bilangan kedua: \"))\n",
        "c = int(input(\"Masukkan bilangan ketiga: \"))\n",
        "jumlah = a + b + c\n",
        "print (\"Jumlah =\", jumlah)"
      ],
      "metadata": {
        "id": "V052d7csFKet",
        "colab": {
          "base_uri": "https://localhost:8080/"
        },
        "outputId": "b84200b1-1b4f-4120-a888-fa8c91082870"
      },
      "execution_count": null,
      "outputs": [
        {
          "output_type": "stream",
          "name": "stdout",
          "text": [
            "Masukkan bilangan pertama: 3\n",
            "Masukkan bilangan kedua: 3\n",
            "Masukkan bilangan ketiga: 3\n",
            "Jumlah = 9\n"
          ]
        }
      ]
    },
    {
      "cell_type": "markdown",
      "source": [
        "**PENUGASAN**"
      ],
      "metadata": {
        "id": "xsMsLfySUC9q"
      }
    },
    {
      "cell_type": "markdown",
      "source": [
        "1. **MENGHITUNG VOLUME BALOK**"
      ],
      "metadata": {
        "id": "_H2z6-r1xK0m"
      }
    },
    {
      "cell_type": "code",
      "source": [
        "panjang = int(input())\n",
        "lebar = int(input())\n",
        "tinggi = int(input())\n",
        "volume = panjang * lebar * tinggi\n",
        "print (\"volumenya adalah =\" + str(volume))"
      ],
      "metadata": {
        "id": "Tk0T3Eve0c3T",
        "colab": {
          "base_uri": "https://localhost:8080/"
        },
        "outputId": "233673dd-961b-4856-e792-edb69a88696c"
      },
      "execution_count": null,
      "outputs": [
        {
          "output_type": "stream",
          "name": "stdout",
          "text": [
            "4\n",
            "4\n",
            "4\n",
            "volumenya adalah =64\n"
          ]
        }
      ]
    },
    {
      "cell_type": "markdown",
      "source": [
        "2. **Konversi Waktu (Detik ke Jam:Menit:Detik)**"
      ],
      "metadata": {
        "id": "_DJQeMZdxzP8"
      }
    },
    {
      "cell_type": "code",
      "source": [
        "detik = int(input())\n",
        "jam = float(detik) / 3600\n",
        "sisa = detik % 3600\n",
        "menit = float(sisa) / 60\n",
        "detik =  sisa % 60\n",
        "print (str(jam) + \"jam\" + str(menit) + \"menit\" + str(detik) + \" detik \")"
      ],
      "metadata": {
        "id": "DPMxpIULkeao",
        "colab": {
          "base_uri": "https://localhost:8080/"
        },
        "outputId": "9572d2f9-ef34-4cc4-f498-169ceaeda709"
      },
      "execution_count": 4,
      "outputs": [
        {
          "output_type": "stream",
          "name": "stdout",
          "text": [
            "900000\n",
            "250.0jam0.0menit0 detik \n"
          ]
        }
      ]
    },
    {
      "cell_type": "markdown",
      "source": [
        "3.**RATA RATA NILAI TIGA MATAKULIAH**"
      ],
      "metadata": {
        "id": "oqU7EOvJkfQX"
      }
    },
    {
      "cell_type": "code",
      "source": [
        "algopro =  int (input())\n",
        "sispro =  int (input())\n",
        "arsikom =  int (input())\n",
        "ratarata = float(algopro + sispro + arsikom) / 3\n",
        "if ratarata >= 60:\n",
        "  print (\"hasilnya adalah =\" + str (ratarata) + \" LOLOS\")\n",
        "else:\n",
        "  print (\"hasilnya adalah =\" + str (ratarata) + \" TIDAK LOLOS\")"
      ],
      "metadata": {
        "colab": {
          "base_uri": "https://localhost:8080/"
        },
        "id": "4D18hwwu2s31",
        "outputId": "05efec2c-8226-49f7-c4fb-e26b3c448684"
      },
      "execution_count": null,
      "outputs": [
        {
          "output_type": "stream",
          "name": "stdout",
          "text": [
            "90\n",
            "90\n",
            "90\n",
            "hasilnya adalah =90.0 LOLOS\n"
          ]
        }
      ]
    },
    {
      "cell_type": "markdown",
      "source": [
        "4.**MENGHITUNG DISKON BELANJA**"
      ],
      "metadata": {
        "id": "98cBv17kkgJY"
      }
    },
    {
      "cell_type": "code",
      "source": [
        "print (\"masukkan harga belanja!\")\n",
        "hargabelanja = int (input())\n",
        "if hargabelanja >= 500000:\n",
        "  diskon = hargabelanja - float (hargabelanja * 20) / 100\n",
        "  print (\"total belanja=\" + str(diskon) + \" anda mendapat diskon 20%\")\n",
        "else:\n",
        "  if hargabelanja >= 250000:\n",
        "    diskon = hargabelanja - float (hargabelanja * 10) / 100\n",
        "    print (\"total belanja=\" + str(diskon) + \" anda mendapat diskon 10%\")\n",
        "  else:\n",
        "    print (\"total belanja=\" + str(hargabelanja) + \" anda tidak mendapatkan diskon\")\n"
      ],
      "metadata": {
        "colab": {
          "base_uri": "https://localhost:8080/"
        },
        "id": "i9JXt-pTyWZk",
        "outputId": "af6fb7cb-a47c-464e-bcc4-5599c28765fe"
      },
      "execution_count": null,
      "outputs": [
        {
          "output_type": "stream",
          "name": "stdout",
          "text": [
            "masukkan harga belanja!\n",
            "1000000\n",
            "total belanja=800000.0 anda mendapat diskon 20%\n"
          ]
        }
      ]
    }
  ]
}